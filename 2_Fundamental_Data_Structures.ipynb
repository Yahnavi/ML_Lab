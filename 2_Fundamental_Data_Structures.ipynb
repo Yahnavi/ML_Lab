{
  "cells": [
    {
      "cell_type": "markdown",
      "metadata": {
        "id": "view-in-github",
        "colab_type": "text"
      },
      "source": [
        "<a href=\"https://colab.research.google.com/github/Yahnavi/ML_Lab/blob/main/2_Fundamental_Data_Structures.ipynb\" target=\"_parent\"><img src=\"https://colab.research.google.com/assets/colab-badge.svg\" alt=\"Open In Colab\"/></a>"
      ]
    },
    {
      "cell_type": "code",
      "execution_count": null,
      "metadata": {
        "id": "EjXXPpIIiQqk"
      },
      "outputs": [],
      "source": [
        "mylist = [1,\"two\",3,(\"four\",\"five\"),{\"six\":6,\"seven\":7}]"
      ]
    },
    {
      "cell_type": "code",
      "execution_count": null,
      "metadata": {
        "id": "ZeP8NHWMiQql",
        "colab": {
          "base_uri": "https://localhost:8080/"
        },
        "outputId": "2e0445c0-f8bb-4c75-b817-625420bf9b52"
      },
      "outputs": [
        {
          "output_type": "execute_result",
          "data": {
            "text/plain": [
              "list"
            ]
          },
          "metadata": {},
          "execution_count": 3
        }
      ],
      "source": [
        "type(mylist)"
      ]
    },
    {
      "cell_type": "code",
      "execution_count": null,
      "metadata": {
        "id": "hlLGrmNziQqm",
        "colab": {
          "base_uri": "https://localhost:8080/"
        },
        "outputId": "a5a7b399-3bf8-47a7-cd59-986b9bd30293"
      },
      "outputs": [
        {
          "output_type": "stream",
          "name": "stdout",
          "text": [
            "1st element  1\n",
            "2nd element  two\n",
            "3rd element  3\n",
            "4th element  ('four', 'five')\n",
            "5th element  {'six': 6, 'seven': 7}\n"
          ]
        }
      ],
      "source": [
        "print(\"1st element \",mylist[0])\n",
        "print(\"2nd element \",mylist[1])\n",
        "print(\"3rd element \",mylist[2])\n",
        "print(\"4th element \",mylist[3])\n",
        "print(\"5th element \",mylist[4])"
      ]
    },
    {
      "cell_type": "code",
      "execution_count": null,
      "metadata": {
        "id": "4yjWINmAiQqm",
        "colab": {
          "base_uri": "https://localhost:8080/"
        },
        "outputId": "ab61ae7d-fe51-4e6c-fa59-38d1f7e6d82a"
      },
      "outputs": [
        {
          "output_type": "stream",
          "name": "stdout",
          "text": [
            "5th element  {'six': 6, 'seven': 7}\n",
            "4th element  ('four', 'five')\n",
            "3rd element  3\n",
            "2nd element  two\n",
            "1st element  1\n"
          ]
        }
      ],
      "source": [
        "print(\"5th element \",mylist[-1])\n",
        "print(\"4th element \",mylist[-2])\n",
        "print(\"3rd element \",mylist[-3])\n",
        "print(\"2nd element \",mylist[-4])\n",
        "print(\"1st element \",mylist[-5])\n"
      ]
    },
    {
      "cell_type": "code",
      "execution_count": null,
      "metadata": {
        "id": "JZzGbMyZiQqn",
        "colab": {
          "base_uri": "https://localhost:8080/"
        },
        "outputId": "d600df0f-9337-4ab5-99b9-6c7fdaed1941"
      },
      "outputs": [
        {
          "output_type": "execute_result",
          "data": {
            "text/plain": [
              "5"
            ]
          },
          "metadata": {},
          "execution_count": 6
        }
      ],
      "source": [
        "len(mylist)"
      ]
    },
    {
      "cell_type": "code",
      "execution_count": null,
      "metadata": {
        "id": "qe6hxRZ0iQqn"
      },
      "outputs": [],
      "source": [
        "mytuple = (1,\"two\",3,(\"four\",\"five\"),{\"six\":6,\"seven\":7}, ['aq','be'])"
      ]
    },
    {
      "cell_type": "code",
      "execution_count": null,
      "metadata": {
        "id": "pFfe7XjniQqn",
        "colab": {
          "base_uri": "https://localhost:8080/"
        },
        "outputId": "4ca62f9c-223e-4330-a135-19c71225e9df"
      },
      "outputs": [
        {
          "output_type": "execute_result",
          "data": {
            "text/plain": [
              "tuple"
            ]
          },
          "metadata": {},
          "execution_count": 9
        }
      ],
      "source": [
        "type(mytuple)"
      ]
    },
    {
      "cell_type": "code",
      "execution_count": null,
      "metadata": {
        "id": "Z4ScKdCliQqn",
        "colab": {
          "base_uri": "https://localhost:8080/"
        },
        "outputId": "9655f8d3-2c18-4aac-df15-f6ad59ef1874"
      },
      "outputs": [
        {
          "output_type": "stream",
          "name": "stdout",
          "text": [
            "1st element  1\n",
            "2nd element  two\n",
            "3rd element  3\n",
            "4th element  ('four', 'five')\n",
            "5th element  {'six': 6, 'seven': 7}\n"
          ]
        }
      ],
      "source": [
        "print(\"1st element \",mytuple[0])\n",
        "print(\"2nd element \",mytuple[1])\n",
        "print(\"3rd element \",mytuple[2])\n",
        "print(\"4th element \",mytuple[3])\n",
        "print(\"5th element \",mytuple[4])"
      ]
    },
    {
      "cell_type": "code",
      "execution_count": null,
      "metadata": {
        "id": "FfaMZQ_aiQqn"
      },
      "outputs": [],
      "source": [
        "print(\"5th element \",mytuple[-1])\n",
        "print(\"4th element \",mytuple[-2])\n",
        "print(\"3rd element \",mytuple[-3])\n",
        "print(\"2nd element \",mytuple[-4])\n",
        "print(\"1st element \",mytuple[-5])\n"
      ]
    },
    {
      "cell_type": "code",
      "execution_count": null,
      "metadata": {
        "id": "9TozgXkiiQqo",
        "colab": {
          "base_uri": "https://localhost:8080/"
        },
        "outputId": "e9f9578d-c4c5-4cb3-e283-811e09a19576"
      },
      "outputs": [
        {
          "output_type": "execute_result",
          "data": {
            "text/plain": [
              "6"
            ]
          },
          "metadata": {},
          "execution_count": 13
        }
      ],
      "source": [
        "len(mytuple)"
      ]
    },
    {
      "cell_type": "code",
      "execution_count": null,
      "metadata": {
        "id": "hSQokB8BiQqo"
      },
      "outputs": [],
      "source": [
        "# myset = {1,\"two\",3,(\"four\",\"five\"),\"two\",1, [1, 2, 2]} : error : lists cannot be stored in sets.\n",
        "myset = {1,\"two\",3,(\"four\",\"five\"),\"two\",1}"
      ]
    },
    {
      "cell_type": "code",
      "execution_count": null,
      "metadata": {
        "id": "OqPDgVd8iQqo",
        "colab": {
          "base_uri": "https://localhost:8080/"
        },
        "outputId": "bc8b0caf-64e5-4d94-980d-a8014d054136"
      },
      "outputs": [
        {
          "output_type": "execute_result",
          "data": {
            "text/plain": [
              "set"
            ]
          },
          "metadata": {},
          "execution_count": 14
        }
      ],
      "source": [
        "type(myset)"
      ]
    },
    {
      "cell_type": "code",
      "execution_count": null,
      "metadata": {
        "id": "STLgCeHqiQqo",
        "colab": {
          "base_uri": "https://localhost:8080/"
        },
        "outputId": "7a25db31-547c-4e85-ed55-c7d5432c1d51"
      },
      "outputs": [
        {
          "output_type": "execute_result",
          "data": {
            "text/plain": [
              "4"
            ]
          },
          "metadata": {},
          "execution_count": 15
        }
      ],
      "source": [
        "len(myset)"
      ]
    },
    {
      "cell_type": "markdown",
      "metadata": {
        "id": "g3g7-hvKiQqp"
      },
      "source": [
        "#### Note above that though we add 6 elements to the set, since two of them are duplicates, they have not been taken into consideration"
      ]
    },
    {
      "cell_type": "code",
      "execution_count": null,
      "metadata": {
        "id": "0qqRwg8KiQqp",
        "colab": {
          "base_uri": "https://localhost:8080/"
        },
        "outputId": "7b1cfb04-a47b-4fa9-8701-4492255f8b69"
      },
      "outputs": [
        {
          "output_type": "stream",
          "name": "stdout",
          "text": [
            "1\n",
            "3\n",
            "('four', 'five')\n",
            "two\n"
          ]
        }
      ],
      "source": [
        "for el in myset:\n",
        "    print(el)"
      ]
    },
    {
      "cell_type": "markdown",
      "source": [
        "Dictionaries in Python\n"
      ],
      "metadata": {
        "id": "yR_iyoj0P2kj"
      }
    },
    {
      "cell_type": "code",
      "execution_count": null,
      "metadata": {
        "id": "NZJnuxDtiQqq"
      },
      "outputs": [],
      "source": [
        "mydict = {(1):\"one\",\"two\":2,3:\"three\"}"
      ]
    },
    {
      "cell_type": "code",
      "execution_count": null,
      "metadata": {
        "id": "WkLg4UT8iQqq",
        "colab": {
          "base_uri": "https://localhost:8080/"
        },
        "outputId": "90a3afbb-f3a4-47a3-e2f9-7b3347ea15ad"
      },
      "outputs": [
        {
          "output_type": "execute_result",
          "data": {
            "text/plain": [
              "dict"
            ]
          },
          "metadata": {},
          "execution_count": 18
        }
      ],
      "source": [
        "type(mydict)"
      ]
    },
    {
      "cell_type": "code",
      "execution_count": null,
      "metadata": {
        "id": "ESP-4RfRiQqq",
        "colab": {
          "base_uri": "https://localhost:8080/",
          "height": 35
        },
        "outputId": "dc99a184-987c-4d1e-90f5-c9448c4adf2a"
      },
      "outputs": [
        {
          "output_type": "execute_result",
          "data": {
            "text/plain": [
              "'one'"
            ],
            "application/vnd.google.colaboratory.intrinsic+json": {
              "type": "string"
            }
          },
          "metadata": {},
          "execution_count": 19
        }
      ],
      "source": [
        "mydict.get((1))"
      ]
    },
    {
      "cell_type": "code",
      "execution_count": null,
      "metadata": {
        "id": "albYwI4ziQqq",
        "colab": {
          "base_uri": "https://localhost:8080/"
        },
        "outputId": "4b94e705-d3f5-4cd3-ed6b-39fb05fbf31b"
      },
      "outputs": [
        {
          "output_type": "execute_result",
          "data": {
            "text/plain": [
              "2"
            ]
          },
          "metadata": {},
          "execution_count": 21
        }
      ],
      "source": [
        "mydict.get(\"two\")"
      ]
    },
    {
      "cell_type": "code",
      "execution_count": null,
      "metadata": {
        "id": "DndTJWokiQqq",
        "colab": {
          "base_uri": "https://localhost:8080/",
          "height": 35
        },
        "outputId": "75136db0-4bb9-42a9-f2d3-cca684d15d3d"
      },
      "outputs": [
        {
          "output_type": "execute_result",
          "data": {
            "text/plain": [
              "'three'"
            ],
            "application/vnd.google.colaboratory.intrinsic+json": {
              "type": "string"
            }
          },
          "metadata": {},
          "execution_count": 22
        }
      ],
      "source": [
        "mydict.get(3)"
      ]
    },
    {
      "cell_type": "code",
      "execution_count": null,
      "metadata": {
        "id": "shYsdPW1iQqq",
        "colab": {
          "base_uri": "https://localhost:8080/"
        },
        "outputId": "690d4037-b5ca-4d79-cbe7-2d3b24e9a5e6"
      },
      "outputs": [
        {
          "output_type": "execute_result",
          "data": {
            "text/plain": [
              "dict_keys([1, 'two', 3])"
            ]
          },
          "metadata": {},
          "execution_count": 20
        }
      ],
      "source": [
        "mydict.keys() # to access all the keys as a list"
      ]
    },
    {
      "cell_type": "code",
      "source": [
        "mydict.values() # to access values in a dict as a list."
      ],
      "metadata": {
        "colab": {
          "base_uri": "https://localhost:8080/"
        },
        "id": "YLMqZZyjQF3L",
        "outputId": "72b9eaad-e8ad-498b-a7e9-2ac534f8634d"
      },
      "execution_count": null,
      "outputs": [
        {
          "output_type": "execute_result",
          "data": {
            "text/plain": [
              "dict_values(['one', 2, 'three'])"
            ]
          },
          "metadata": {},
          "execution_count": 23
        }
      ]
    },
    {
      "cell_type": "code",
      "source": [
        "mydict.items() # to access key, value pair as a tuple each."
      ],
      "metadata": {
        "colab": {
          "base_uri": "https://localhost:8080/"
        },
        "id": "1OLrZNX4QSvV",
        "outputId": "db70a56d-9cba-4926-edae-66154050ec37"
      },
      "execution_count": null,
      "outputs": [
        {
          "output_type": "execute_result",
          "data": {
            "text/plain": [
              "dict_items([(1, 'one'), ('two', 2), (3, 'three')])"
            ]
          },
          "metadata": {},
          "execution_count": 24
        }
      ]
    },
    {
      "cell_type": "code",
      "source": [
        "mydict.update({4:'four'}) # to update items to dictionary either existing or new item."
      ],
      "metadata": {
        "id": "8NGyeccuQeaQ"
      },
      "execution_count": null,
      "outputs": []
    },
    {
      "cell_type": "code",
      "source": [
        "mydict"
      ],
      "metadata": {
        "colab": {
          "base_uri": "https://localhost:8080/"
        },
        "id": "zTo_nyRxQspI",
        "outputId": "26acfcfb-0fa8-4094-a0cf-ecbab9dc88f2"
      },
      "execution_count": null,
      "outputs": [
        {
          "output_type": "execute_result",
          "data": {
            "text/plain": [
              "{1: 'one', 'two': 2, 3: 'three', 4: 'four'}"
            ]
          },
          "metadata": {},
          "execution_count": 26
        }
      ]
    },
    {
      "cell_type": "code",
      "source": [
        "mydict.pop('two') # to remove items from dictionary"
      ],
      "metadata": {
        "colab": {
          "base_uri": "https://localhost:8080/"
        },
        "id": "0wg0C5QcQtke",
        "outputId": "a2e99bb3-e5d4-465c-cdc8-330042a5ea63"
      },
      "execution_count": null,
      "outputs": [
        {
          "output_type": "execute_result",
          "data": {
            "text/plain": [
              "2"
            ]
          },
          "metadata": {},
          "execution_count": 27
        }
      ]
    },
    {
      "cell_type": "code",
      "source": [
        "mydict"
      ],
      "metadata": {
        "colab": {
          "base_uri": "https://localhost:8080/"
        },
        "id": "-wT6fd2HRB35",
        "outputId": "314c3420-dcac-4a9a-b8a2-51e62f0c66ff"
      },
      "execution_count": null,
      "outputs": [
        {
          "output_type": "execute_result",
          "data": {
            "text/plain": [
              "{}"
            ]
          },
          "metadata": {},
          "execution_count": 32
        }
      ]
    },
    {
      "cell_type": "code",
      "source": [
        "mydict.popitem() # to remove last inserted item."
      ],
      "metadata": {
        "colab": {
          "base_uri": "https://localhost:8080/"
        },
        "id": "TavC2fQdRDwL",
        "outputId": "f5dbf977-0e47-46a6-8166-ed1eb14bd9a3"
      },
      "execution_count": null,
      "outputs": [
        {
          "output_type": "execute_result",
          "data": {
            "text/plain": [
              "(4, 'four')"
            ]
          },
          "metadata": {},
          "execution_count": 29
        }
      ]
    },
    {
      "cell_type": "code",
      "source": [
        "mydict.clear() # to remove all items from the dictionary."
      ],
      "metadata": {
        "id": "vzv7TzO1RLs4"
      },
      "execution_count": null,
      "outputs": []
    },
    {
      "cell_type": "code",
      "source": [
        "mydict[1] = 'one'\n",
        "mydict[2] = 'two'\n",
        "mydict[3] = 'three'"
      ],
      "metadata": {
        "id": "GwRcvzfURUVl"
      },
      "execution_count": null,
      "outputs": []
    },
    {
      "cell_type": "code",
      "source": [
        "mydict"
      ],
      "metadata": {
        "colab": {
          "base_uri": "https://localhost:8080/"
        },
        "id": "nyJ5M0Q2Rhmv",
        "outputId": "7a68f1e4-1cba-457e-e4a7-b6ecd97373f9"
      },
      "execution_count": null,
      "outputs": [
        {
          "output_type": "execute_result",
          "data": {
            "text/plain": [
              "{1: 'one', 2: 'two', 3: 'three'}"
            ]
          },
          "metadata": {},
          "execution_count": 34
        }
      ]
    },
    {
      "cell_type": "code",
      "source": [
        "for x in mydict:\n",
        "  print(x)"
      ],
      "metadata": {
        "colab": {
          "base_uri": "https://localhost:8080/"
        },
        "id": "6C8A7xrlRi9o",
        "outputId": "ac189ff0-a50c-4076-f0d9-40ac4ce7fe1d"
      },
      "execution_count": null,
      "outputs": [
        {
          "output_type": "stream",
          "name": "stdout",
          "text": [
            "1\n",
            "2\n",
            "3\n"
          ]
        }
      ]
    },
    {
      "cell_type": "code",
      "source": [
        "for x in mydict.keys():\n",
        "  print(x)"
      ],
      "metadata": {
        "colab": {
          "base_uri": "https://localhost:8080/"
        },
        "id": "STMBwlyCRzyd",
        "outputId": "b55277a0-5657-477c-9554-6082a6a3ff3b"
      },
      "execution_count": null,
      "outputs": [
        {
          "output_type": "stream",
          "name": "stdout",
          "text": [
            "1\n",
            "2\n",
            "3\n"
          ]
        }
      ]
    },
    {
      "cell_type": "code",
      "source": [
        "for x in mydict.values():\n",
        "  print(x)"
      ],
      "metadata": {
        "colab": {
          "base_uri": "https://localhost:8080/"
        },
        "id": "i-gmPM-vR4gl",
        "outputId": "1a3bd9e8-19ff-4b06-fae1-7a4d290d1474"
      },
      "execution_count": null,
      "outputs": [
        {
          "output_type": "stream",
          "name": "stdout",
          "text": [
            "one\n",
            "two\n",
            "three\n"
          ]
        }
      ]
    },
    {
      "cell_type": "code",
      "source": [
        "for x in mydict.items():\n",
        "  print(x)"
      ],
      "metadata": {
        "colab": {
          "base_uri": "https://localhost:8080/"
        },
        "id": "31JH_3seR7tb",
        "outputId": "efd66a23-7991-4edf-f4df-f6e52e5462c8"
      },
      "execution_count": null,
      "outputs": [
        {
          "output_type": "stream",
          "name": "stdout",
          "text": [
            "(1, 'one')\n",
            "(2, 'two')\n",
            "(3, 'three')\n"
          ]
        }
      ]
    },
    {
      "cell_type": "code",
      "source": [
        "dict2 = mydict.copy()"
      ],
      "metadata": {
        "id": "tF-aqPQBR-zX"
      },
      "execution_count": null,
      "outputs": []
    },
    {
      "cell_type": "code",
      "source": [
        "dict2"
      ],
      "metadata": {
        "id": "V-Y6dlCWSHdI",
        "outputId": "9ac91780-6a10-4454-a728-b4debfb7d98b",
        "colab": {
          "base_uri": "https://localhost:8080/"
        }
      },
      "execution_count": null,
      "outputs": [
        {
          "output_type": "execute_result",
          "data": {
            "text/plain": [
              "{1: 'one', 2: 'two', 3: 'three'}"
            ]
          },
          "metadata": {},
          "execution_count": 40
        }
      ]
    },
    {
      "cell_type": "code",
      "source": [],
      "metadata": {
        "id": "1hDArmUXSIK_"
      },
      "execution_count": null,
      "outputs": []
    }
  ],
  "metadata": {
    "kernelspec": {
      "display_name": "Python 3",
      "language": "python",
      "name": "python3"
    },
    "language_info": {
      "codemirror_mode": {
        "name": "ipython",
        "version": 3
      },
      "file_extension": ".py",
      "mimetype": "text/x-python",
      "name": "python",
      "nbconvert_exporter": "python",
      "pygments_lexer": "ipython3",
      "version": "3.7.6"
    },
    "colab": {
      "provenance": [],
      "include_colab_link": true
    }
  },
  "nbformat": 4,
  "nbformat_minor": 0
}