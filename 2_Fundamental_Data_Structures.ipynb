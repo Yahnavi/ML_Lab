{
  "cells": [
    {
      "cell_type": "markdown",
      "metadata": {
        "id": "view-in-github",
        "colab_type": "text"
      },
      "source": [
        "<a href=\"https://colab.research.google.com/github/Yahnavi/ML_Lab/blob/main/2_Fundamental_Data_Structures.ipynb\" target=\"_parent\"><img src=\"https://colab.research.google.com/assets/colab-badge.svg\" alt=\"Open In Colab\"/></a>"
      ]
    },
    {
      "cell_type": "code",
      "execution_count": null,
      "metadata": {
        "id": "EjXXPpIIiQqk"
      },
      "outputs": [],
      "source": [
        "mylist = [1,\"two\",2,(\"four\",\"five\"),{\"six\":6,\"seven\":7}]"
      ]
    },
    {
      "cell_type": "code",
      "execution_count": null,
      "metadata": {
        "id": "ZeP8NHWMiQql"
      },
      "outputs": [],
      "source": [
        "type(mylist)"
      ]
    },
    {
      "cell_type": "code",
      "execution_count": null,
      "metadata": {
        "id": "hlLGrmNziQqm",
        "outputId": "b1a93c17-404e-4284-d408-594fe6dc8bc3",
        "colab": {
          "base_uri": "https://localhost:8080/"
        }
      },
      "outputs": [
        {
          "output_type": "stream",
          "name": "stdout",
          "text": [
            "1st element  1\n",
            "2nd element  two\n",
            "3rd element  2\n",
            "4th element  ('four', 'five')\n",
            "5th element  {'six': 6, 'seven': 7}\n"
          ]
        }
      ],
      "source": [
        "print(\"1st element \",mylist[0])\n",
        "print(\"2nd element \",mylist[1])\n",
        "print(\"3rd element \",mylist[2])\n",
        "print(\"4th element \",mylist[3])\n",
        "print(\"5th element \",mylist[4])"
      ]
    },
    {
      "cell_type": "code",
      "execution_count": null,
      "metadata": {
        "id": "4yjWINmAiQqm",
        "outputId": "6f068b08-1739-46ac-ec73-f774cf3db008",
        "colab": {
          "base_uri": "https://localhost:8080/"
        }
      },
      "outputs": [
        {
          "output_type": "stream",
          "name": "stdout",
          "text": [
            "5th element  {'six': 6, 'seven': 7}\n",
            "4th element  ('four', 'five')\n",
            "3rd element  2\n",
            "2nd element  two\n",
            "1st element  1\n"
          ]
        }
      ],
      "source": [
        "print(\"5th element \",mylist[-1])\n",
        "print(\"4th element \",mylist[-2])\n",
        "print(\"3rd element \",mylist[-3])\n",
        "print(\"2nd element \",mylist[-4])\n",
        "print(\"1st element \",mylist[-5])\n"
      ]
    },
    {
      "cell_type": "code",
      "execution_count": null,
      "metadata": {
        "id": "JZzGbMyZiQqn",
        "outputId": "6a4786af-5e4f-43c1-a853-a3890902bc60",
        "colab": {
          "base_uri": "https://localhost:8080/"
        }
      },
      "outputs": [
        {
          "output_type": "execute_result",
          "data": {
            "text/plain": [
              "5"
            ]
          },
          "metadata": {},
          "execution_count": 4
        }
      ],
      "source": [
        "len(mylist)"
      ]
    },
    {
      "cell_type": "code",
      "execution_count": null,
      "metadata": {
        "id": "qe6hxRZ0iQqn"
      },
      "outputs": [],
      "source": [
        "mytuple = (1,\"two\",3,(\"four\",\"five\"),{\"six\":6,\"seven\":7})"
      ]
    },
    {
      "cell_type": "code",
      "execution_count": null,
      "metadata": {
        "id": "pFfe7XjniQqn"
      },
      "outputs": [],
      "source": [
        "type(mytuple)"
      ]
    },
    {
      "cell_type": "code",
      "execution_count": null,
      "metadata": {
        "id": "Z4ScKdCliQqn",
        "outputId": "d8293899-acb8-4a3b-de9d-0232561ed5b7",
        "colab": {
          "base_uri": "https://localhost:8080/"
        }
      },
      "outputs": [
        {
          "output_type": "stream",
          "name": "stdout",
          "text": [
            "1st element  1\n",
            "2nd element  two\n",
            "3rd element  3\n",
            "4th element  ('four', 'five')\n",
            "5th element  {'six': 6, 'seven': 7}\n"
          ]
        }
      ],
      "source": [
        "print(\"1st element \",mytuple[0])\n",
        "print(\"2nd element \",mytuple[1])\n",
        "print(\"3rd element \",mytuple[2])\n",
        "print(\"4th element \",mytuple[3])\n",
        "print(\"5th element \",mytuple[4])"
      ]
    },
    {
      "cell_type": "code",
      "execution_count": null,
      "metadata": {
        "id": "FfaMZQ_aiQqn",
        "outputId": "a17f9f27-4fa8-4a3a-976e-4701d43d5a36",
        "colab": {
          "base_uri": "https://localhost:8080/"
        }
      },
      "outputs": [
        {
          "output_type": "stream",
          "name": "stdout",
          "text": [
            "6th element  {'six': 6, 'seven': 7}\n",
            "4th element  ('four', 'five')\n",
            "3rd element  3\n",
            "2nd element  two\n",
            "1st element  1\n"
          ]
        }
      ],
      "source": [
        "print(\"6th element \",mytuple[-1])\n",
        "print(\"4th element \",mytuple[-2])\n",
        "print(\"3rd element \",mytuple[-3])\n",
        "print(\"2nd element \",mytuple[-4])\n",
        "print(\"1st element \",mytuple[-5])\n"
      ]
    },
    {
      "cell_type": "code",
      "execution_count": null,
      "metadata": {
        "id": "9TozgXkiiQqo",
        "outputId": "527dd0fd-94f8-4cd5-cbe2-14950eee4312",
        "colab": {
          "base_uri": "https://localhost:8080/"
        }
      },
      "outputs": [
        {
          "output_type": "execute_result",
          "data": {
            "text/plain": [
              "5"
            ]
          },
          "metadata": {},
          "execution_count": 12
        }
      ],
      "source": [
        "len(mytuple)"
      ]
    },
    {
      "cell_type": "code",
      "execution_count": null,
      "metadata": {
        "id": "hSQokB8BiQqo"
      },
      "outputs": [],
      "source": [
        "myset = {1,\"two\",3,(\"four\",\"five\"),\"two\",1}"
      ]
    },
    {
      "cell_type": "code",
      "execution_count": null,
      "metadata": {
        "id": "OqPDgVd8iQqo",
        "outputId": "0de3e5b1-ecb7-42bf-83e6-3f05b3d246df",
        "colab": {
          "base_uri": "https://localhost:8080/"
        }
      },
      "outputs": [
        {
          "output_type": "execute_result",
          "data": {
            "text/plain": [
              "set"
            ]
          },
          "metadata": {},
          "execution_count": 15
        }
      ],
      "source": [
        "type(myset)"
      ]
    },
    {
      "cell_type": "code",
      "execution_count": null,
      "metadata": {
        "id": "STLgCeHqiQqo",
        "outputId": "4ef4e0a7-6aaf-4f9d-fc0f-8ecb9ee36db3",
        "colab": {
          "base_uri": "https://localhost:8080/"
        }
      },
      "outputs": [
        {
          "output_type": "execute_result",
          "data": {
            "text/plain": [
              "4"
            ]
          },
          "metadata": {},
          "execution_count": 16
        }
      ],
      "source": [
        "len(myset)"
      ]
    },
    {
      "cell_type": "markdown",
      "metadata": {
        "id": "g3g7-hvKiQqp"
      },
      "source": [
        "#### Note above that though we add 6 elements to the set, since two of them are duplicates, they have not been taken into consideration"
      ]
    },
    {
      "cell_type": "code",
      "execution_count": null,
      "metadata": {
        "id": "0qqRwg8KiQqp",
        "outputId": "316e3295-a1c0-449b-d4ce-7d766ab339ca",
        "colab": {
          "base_uri": "https://localhost:8080/"
        }
      },
      "outputs": [
        {
          "output_type": "stream",
          "name": "stdout",
          "text": [
            "two\n",
            "3\n",
            "1\n",
            "('four', 'five')\n"
          ]
        }
      ],
      "source": [
        "for el in myset:\n",
        "    print(el)"
      ]
    },
    {
      "cell_type": "code",
      "execution_count": null,
      "metadata": {
        "id": "NZJnuxDtiQqq"
      },
      "outputs": [],
      "source": [
        "mydict = {(1):\"one\",\"two\":2,3:\"three\"}"
      ]
    },
    {
      "cell_type": "code",
      "execution_count": null,
      "metadata": {
        "id": "WkLg4UT8iQqq"
      },
      "outputs": [],
      "source": [
        "type(mydict)"
      ]
    },
    {
      "cell_type": "code",
      "execution_count": null,
      "metadata": {
        "id": "ESP-4RfRiQqq"
      },
      "outputs": [],
      "source": [
        "mydict.get((2))"
      ]
    },
    {
      "cell_type": "code",
      "execution_count": null,
      "metadata": {
        "id": "albYwI4ziQqq",
        "outputId": "44f8c959-1b6f-4452-bb57-97f8fe53e545",
        "colab": {
          "base_uri": "https://localhost:8080/"
        }
      },
      "outputs": [
        {
          "output_type": "execute_result",
          "data": {
            "text/plain": [
              "2"
            ]
          },
          "metadata": {},
          "execution_count": 21
        }
      ],
      "source": [
        "mydict.get(\"two\")"
      ]
    },
    {
      "cell_type": "code",
      "execution_count": null,
      "metadata": {
        "id": "DndTJWokiQqq",
        "outputId": "1ed2d6c6-b2db-4af5-f932-bb449901468c",
        "colab": {
          "base_uri": "https://localhost:8080/",
          "height": 35
        }
      },
      "outputs": [
        {
          "output_type": "execute_result",
          "data": {
            "text/plain": [
              "'three'"
            ],
            "application/vnd.google.colaboratory.intrinsic+json": {
              "type": "string"
            }
          },
          "metadata": {},
          "execution_count": 20
        }
      ],
      "source": [
        "mydict.get(3)"
      ]
    },
    {
      "cell_type": "code",
      "execution_count": null,
      "metadata": {
        "id": "shYsdPW1iQqq"
      },
      "outputs": [],
      "source": []
    }
  ],
  "metadata": {
    "kernelspec": {
      "display_name": "Python 3",
      "language": "python",
      "name": "python3"
    },
    "language_info": {
      "codemirror_mode": {
        "name": "ipython",
        "version": 3
      },
      "file_extension": ".py",
      "mimetype": "text/x-python",
      "name": "python",
      "nbconvert_exporter": "python",
      "pygments_lexer": "ipython3",
      "version": "3.7.6"
    },
    "colab": {
      "provenance": [],
      "include_colab_link": true
    }
  },
  "nbformat": 4,
  "nbformat_minor": 0
}