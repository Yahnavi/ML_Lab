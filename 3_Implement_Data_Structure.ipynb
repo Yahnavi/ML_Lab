{
  "cells": [
    {
      "cell_type": "markdown",
      "metadata": {
        "id": "view-in-github",
        "colab_type": "text"
      },
      "source": [
        "<a href=\"https://colab.research.google.com/github/Yahnavi/ML_Lab/blob/main/3_Implement_Data_Structure.ipynb\" target=\"_parent\"><img src=\"https://colab.research.google.com/assets/colab-badge.svg\" alt=\"Open In Colab\"/></a>"
      ]
    },
    {
      "cell_type": "code",
      "execution_count": 1,
      "metadata": {
        "id": "IQV-A7l1WwwQ"
      },
      "outputs": [],
      "source": [
        "mytuple = (1,2,3,4)"
      ]
    },
    {
      "cell_type": "code",
      "execution_count": 2,
      "metadata": {
        "colab": {
          "base_uri": "https://localhost:8080/"
        },
        "id": "C88k9RkeW0LD",
        "outputId": "f1891782-39c8-44f5-945e-b905ee7f0e6c"
      },
      "outputs": [
        {
          "output_type": "stream",
          "name": "stdout",
          "text": [
            "0\n",
            "1\n"
          ]
        }
      ],
      "source": [
        "print(mytuple.count(6))\n",
        "print(mytuple.count(2))"
      ]
    },
    {
      "cell_type": "code",
      "execution_count": 3,
      "metadata": {
        "colab": {
          "base_uri": "https://localhost:8080/"
        },
        "id": "P_77LxRSW8fA",
        "outputId": "65b9cca5-6c7b-4695-8531-a8093b14a4bd"
      },
      "outputs": [
        {
          "output_type": "execute_result",
          "data": {
            "text/plain": [
              "1"
            ]
          },
          "metadata": {},
          "execution_count": 3
        }
      ],
      "source": [
        "mytuple.index(2)"
      ]
    },
    {
      "cell_type": "code",
      "execution_count": 4,
      "metadata": {
        "colab": {
          "base_uri": "https://localhost:8080/"
        },
        "id": "8dVXl-yvXiX5",
        "outputId": "50a04b86-0644-483a-b87f-8c08b8d53c37"
      },
      "outputs": [
        {
          "output_type": "execute_result",
          "data": {
            "text/plain": [
              "1"
            ]
          },
          "metadata": {},
          "execution_count": 4
        }
      ],
      "source": [
        "mytuple.index(2)"
      ]
    },
    {
      "cell_type": "markdown",
      "metadata": {
        "id": "ccaRLohTiUEe"
      },
      "source": [
        "#### Notice that trying to get an index which doesn't exist in the tuple throws a ValueError"
      ]
    },
    {
      "cell_type": "code",
      "execution_count": 5,
      "metadata": {
        "id": "EEhTwjr8Xl44"
      },
      "outputs": [],
      "source": [
        "myset = {1,2,3,4,5}"
      ]
    },
    {
      "cell_type": "markdown",
      "metadata": {
        "id": "wEJTQcJ7YFIf"
      },
      "source": [
        "#### Add an element to the set"
      ]
    },
    {
      "cell_type": "code",
      "execution_count": 6,
      "metadata": {
        "colab": {
          "base_uri": "https://localhost:8080/"
        },
        "id": "NSf0esRfX5wy",
        "outputId": "093bced8-1931-4afa-b38b-a54fedc60675"
      },
      "outputs": [
        {
          "output_type": "stream",
          "name": "stdout",
          "text": [
            "{1, 2, 3, 4, 5, 6}\n"
          ]
        }
      ],
      "source": [
        "myset.add(6)\n",
        "print(myset)"
      ]
    },
    {
      "cell_type": "markdown",
      "metadata": {
        "id": "0qfESeyAYml_"
      },
      "source": [
        "#### Update method on set is similar to the extend method in list. The difference is that if there are duplicate elements, one one occurence is added to the original set."
      ]
    },
    {
      "cell_type": "code",
      "execution_count": 7,
      "metadata": {
        "colab": {
          "base_uri": "https://localhost:8080/"
        },
        "id": "LGONIEdcYDB5",
        "outputId": "ad7807d1-a5fa-416c-85bb-54fa421ea2b7"
      },
      "outputs": [
        {
          "output_type": "execute_result",
          "data": {
            "text/plain": [
              "{1, 2, 3, 4, 5, 6, 7, 8}"
            ]
          },
          "metadata": {},
          "execution_count": 7
        }
      ],
      "source": [
        "myset2 = {4,5,6,7,8}\n",
        "myset.update(myset2)\n",
        "myset"
      ]
    },
    {
      "cell_type": "code",
      "execution_count": 8,
      "metadata": {
        "colab": {
          "base_uri": "https://localhost:8080/"
        },
        "id": "Y8KB6cvCYjQL",
        "outputId": "bed32c5c-f7ae-4d91-cd02-07b19f3af473"
      },
      "outputs": [
        {
          "output_type": "execute_result",
          "data": {
            "text/plain": [
              "{1, 2, 3, 4, 5, 6, 7, 8, 9, 10}"
            ]
          },
          "metadata": {},
          "execution_count": 8
        }
      ],
      "source": [
        "mylist = {1,2,9,10}\n",
        "myset.update(mylist)\n",
        "myset"
      ]
    },
    {
      "cell_type": "code",
      "execution_count": 9,
      "metadata": {
        "id": "yQYjgQzqYwAk"
      },
      "outputs": [],
      "source": [
        "mydict = {1:\"one\",2:\"two\",3:\"three\"}"
      ]
    },
    {
      "cell_type": "code",
      "execution_count": 10,
      "metadata": {
        "colab": {
          "base_uri": "https://localhost:8080/"
        },
        "id": "op7xMGhK_-wu",
        "outputId": "e49c071c-2944-46fe-9b75-2a6ef4fb2f3a"
      },
      "outputs": [
        {
          "output_type": "stream",
          "name": "stdout",
          "text": [
            "1  -  one\n",
            "2  -  two\n",
            "3  -  three\n"
          ]
        }
      ],
      "source": [
        "for key in mydict.keys():\n",
        "  print(key,\" - \",mydict[key])"
      ]
    },
    {
      "cell_type": "code",
      "execution_count": 11,
      "metadata": {
        "colab": {
          "base_uri": "https://localhost:8080/"
        },
        "id": "ZyTufx6aAKgq",
        "outputId": "a3b56c0b-302a-494e-e080-7344fdf120c4"
      },
      "outputs": [
        {
          "output_type": "stream",
          "name": "stdout",
          "text": [
            "(1, 'one')\n",
            "(2, 'two')\n",
            "(3, 'three')\n"
          ]
        }
      ],
      "source": [
        "for item in mydict.items():\n",
        "  print(item)"
      ]
    },
    {
      "cell_type": "code",
      "execution_count": 12,
      "metadata": {
        "colab": {
          "base_uri": "https://localhost:8080/"
        },
        "id": "3O8MnFoOb_Ft",
        "outputId": "fd810a5c-285f-4794-ede6-6363d1559bbb"
      },
      "outputs": [
        {
          "output_type": "stream",
          "name": "stdout",
          "text": [
            "{1: None, 2: None, 3: None, 4: None, 5: None, 6: None}\n",
            "{1: 0, 2: 0, 3: 0, 4: 0, 5: 0, 6: 0}\n"
          ]
        }
      ],
      "source": [
        "mylist1 = [1,2,3,4,5,6]\n",
        "\n",
        "#Creates a dictionary mapping the keys in the collection onto None\n",
        "print(mydict.fromkeys(mylist1))\n",
        "\n",
        "#Creates a dictionary mapping the keys on the the value passed as second parameter\n",
        "print(mydict.fromkeys(mylist1,0))"
      ]
    },
    {
      "cell_type": "code",
      "execution_count": 13,
      "metadata": {
        "id": "xlUGfeyFd0v-"
      },
      "outputs": [],
      "source": [
        "mydict2 = mydict.copy()"
      ]
    },
    {
      "cell_type": "code",
      "execution_count": 14,
      "metadata": {
        "id": "0OKnb_1tDjUg"
      },
      "outputs": [],
      "source": [
        "mydict2[\"newkey\"] = \"newvalue\""
      ]
    },
    {
      "cell_type": "code",
      "execution_count": 15,
      "metadata": {
        "colab": {
          "base_uri": "https://localhost:8080/"
        },
        "id": "Fs4CY8LjDqAQ",
        "outputId": "d0754ba6-c92e-4543-913f-b5f591378ddc"
      },
      "outputs": [
        {
          "output_type": "stream",
          "name": "stdout",
          "text": [
            "mydict  {1: 'one', 2: 'two', 3: 'three'}\n",
            "mydict2  {1: 'one', 2: 'two', 3: 'three', 'newkey': 'newvalue'}\n"
          ]
        }
      ],
      "source": [
        "print(\"mydict \",mydict)\n",
        "print(\"mydict2 \",mydict2)"
      ]
    },
    {
      "cell_type": "code",
      "source": [],
      "metadata": {
        "id": "zNmJN-MpUkwH"
      },
      "execution_count": null,
      "outputs": []
    }
  ],
  "metadata": {
    "colab": {
      "provenance": [],
      "include_colab_link": true
    },
    "kernelspec": {
      "display_name": "Python 3",
      "language": "python",
      "name": "python3"
    },
    "language_info": {
      "codemirror_mode": {
        "name": "ipython",
        "version": 3
      },
      "file_extension": ".py",
      "mimetype": "text/x-python",
      "name": "python",
      "nbconvert_exporter": "python",
      "pygments_lexer": "ipython3",
      "version": "3.7.6"
    }
  },
  "nbformat": 4,
  "nbformat_minor": 0
}