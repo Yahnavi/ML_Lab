{
  "cells": [
    {
      "cell_type": "markdown",
      "metadata": {
        "id": "view-in-github",
        "colab_type": "text"
      },
      "source": [
        "<a href=\"https://colab.research.google.com/github/Yahnavi/ML_Lab/blob/main/4_Operators_in_python.ipynb\" target=\"_parent\"><img src=\"https://colab.research.google.com/assets/colab-badge.svg\" alt=\"Open In Colab\"/></a>"
      ]
    },
    {
      "cell_type": "markdown",
      "metadata": {
        "id": "ZG1Ph851U4Fb"
      },
      "source": [
        "## Instructions\n",
        "Run each cell to understand how each of the operation works. Try to change the values or add new cells with the `Insert` option in the menu on top and try to extend your understanding and challenge yourself.\n",
        "\n",
        "### Arithmetic Operations"
      ]
    },
    {
      "cell_type": "code",
      "execution_count": 3,
      "metadata": {
        "id": "qtBIJrD2U4Ff"
      },
      "outputs": [],
      "source": [
        "#Declare the variables to use for the operations\n",
        "x = 10\n",
        "y = 3"
      ]
    },
    {
      "cell_type": "code",
      "execution_count": 4,
      "metadata": {
        "colab": {
          "base_uri": "https://localhost:8080/"
        },
        "id": "YlhirFqrU4Fh",
        "outputId": "1ab26545-55bd-4bd4-b7a2-07bdc89f470a"
      },
      "outputs": [
        {
          "output_type": "stream",
          "name": "stdout",
          "text": [
            "The result of addition operation is  13\n"
          ]
        }
      ],
      "source": [
        "print(\"The result of addition operation is \",x+y)"
      ]
    },
    {
      "cell_type": "code",
      "execution_count": 5,
      "metadata": {
        "colab": {
          "base_uri": "https://localhost:8080/"
        },
        "id": "9bo_mZNGU4Fi",
        "outputId": "51d9c55d-d3dc-4c6b-fbc0-c36d350815cd"
      },
      "outputs": [
        {
          "output_type": "stream",
          "name": "stdout",
          "text": [
            "The result of subtraction operation is  7\n"
          ]
        }
      ],
      "source": [
        "print(\"The result of subtraction operation is \",x-y)"
      ]
    },
    {
      "cell_type": "code",
      "execution_count": 6,
      "metadata": {
        "colab": {
          "base_uri": "https://localhost:8080/"
        },
        "id": "MNRPe6G6U4Fk",
        "outputId": "dfe3436c-ae7f-4774-d53a-6bd1c79e1786"
      },
      "outputs": [
        {
          "output_type": "stream",
          "name": "stdout",
          "text": [
            "The result of multiplication operation is  30\n"
          ]
        }
      ],
      "source": [
        "print(\"The result of multiplication operation is \",x*y)"
      ]
    },
    {
      "cell_type": "code",
      "execution_count": 7,
      "metadata": {
        "colab": {
          "base_uri": "https://localhost:8080/"
        },
        "id": "rMW-RLqBU4Fk",
        "outputId": "84de835a-1efb-4834-b206-05cc0ab1aa43"
      },
      "outputs": [
        {
          "output_type": "stream",
          "name": "stdout",
          "text": [
            "The result of division operation is  3.3333333333333335\n"
          ]
        }
      ],
      "source": [
        "print(\"The result of division operation is \",x/y)"
      ]
    },
    {
      "cell_type": "code",
      "execution_count": 8,
      "metadata": {
        "colab": {
          "base_uri": "https://localhost:8080/"
        },
        "id": "0uEdqvMZU4Fl",
        "outputId": "f059ee01-7738-4192-e039-55136480c69b"
      },
      "outputs": [
        {
          "output_type": "stream",
          "name": "stdout",
          "text": [
            "The result of Floor division operation is  3\n"
          ]
        }
      ],
      "source": [
        "print(\"The result of Floor division operation is \",x//y)"
      ]
    },
    {
      "cell_type": "markdown",
      "metadata": {
        "id": "0wBM7S6ZU4Fm"
      },
      "source": [
        "Observe the result of the floor divison in the previous step"
      ]
    },
    {
      "cell_type": "code",
      "execution_count": 9,
      "metadata": {
        "colab": {
          "base_uri": "https://localhost:8080/"
        },
        "id": "5m6k4GQ5U4Fm",
        "outputId": "3719e60c-cb22-46e5-d9e1-8ad7a9ee957f"
      },
      "outputs": [
        {
          "output_type": "stream",
          "name": "stdout",
          "text": [
            "The result of exponentiation operation is  1000\n"
          ]
        }
      ],
      "source": [
        "print(\"The result of exponentiation operation is \",x**y)"
      ]
    },
    {
      "cell_type": "markdown",
      "metadata": {
        "id": "X_evLUDtU4Fn"
      },
      "source": [
        "### Comparison Operations"
      ]
    },
    {
      "cell_type": "code",
      "execution_count": 10,
      "metadata": {
        "colab": {
          "base_uri": "https://localhost:8080/"
        },
        "id": "3TRSqSUjU4Fn",
        "outputId": "70d35d3e-5e33-49a5-f546-e25552f54c42"
      },
      "outputs": [
        {
          "output_type": "stream",
          "name": "stdout",
          "text": [
            "The output of the comparison 4>3 is  True\n",
            "The output of the comparison 3>4 is  False\n"
          ]
        }
      ],
      "source": [
        "print(\"The output of the comparison 4>3 is \",4>3)\n",
        "print(\"The output of the comparison 3>4 is \",3>4)"
      ]
    },
    {
      "cell_type": "code",
      "execution_count": 11,
      "metadata": {
        "colab": {
          "base_uri": "https://localhost:8080/"
        },
        "id": "JeQNFSQ7U4Fn",
        "outputId": "bfd8f362-e0e1-455b-b8cc-4f6f7c18d437"
      },
      "outputs": [
        {
          "output_type": "stream",
          "name": "stdout",
          "text": [
            "The output of the comparison 4<3 is  False\n",
            "The output of the comparison 3<4 is  True\n"
          ]
        }
      ],
      "source": [
        "print(\"The output of the comparison 4<3 is \",4<3)\n",
        "print(\"The output of the comparison 3<4 is \",3<4)"
      ]
    },
    {
      "cell_type": "code",
      "execution_count": 12,
      "metadata": {
        "colab": {
          "base_uri": "https://localhost:8080/"
        },
        "id": "mChEnn3qU4Fo",
        "outputId": "c4ee73d7-ca01-4843-87d9-cd77b5ee2ad7"
      },
      "outputs": [
        {
          "output_type": "stream",
          "name": "stdout",
          "text": [
            "The output of the comparison 3 == 3 is  True\n",
            "The output of the comparison 3 == 4 is  False\n"
          ]
        }
      ],
      "source": [
        "print(\"The output of the comparison 3 == 3 is \",3 == 3)\n",
        "print(\"The output of the comparison 3 == 4 is \",3 == 4)"
      ]
    },
    {
      "cell_type": "code",
      "execution_count": 13,
      "metadata": {
        "colab": {
          "base_uri": "https://localhost:8080/"
        },
        "id": "-GMLL0U9U4Fo",
        "outputId": "7886c834-d9d4-4353-f7b3-7054bb6d2cc5"
      },
      "outputs": [
        {
          "output_type": "stream",
          "name": "stdout",
          "text": [
            "The output of the comparison 3 >= 3 is  True\n",
            "The output of the comparison 3 >= 2 is  True\n",
            "The output of the comparison 3 >= 5 is  False\n"
          ]
        }
      ],
      "source": [
        "print(\"The output of the comparison 3 >= 3 is \",3 >= 3)\n",
        "print(\"The output of the comparison 3 >= 2 is \",3 >= 2)\n",
        "print(\"The output of the comparison 3 >= 5 is \",3 >= 5)\n"
      ]
    },
    {
      "cell_type": "code",
      "execution_count": 14,
      "metadata": {
        "colab": {
          "base_uri": "https://localhost:8080/"
        },
        "id": "xt7s5Rd3U4Fo",
        "outputId": "68677c4d-eb31-4f3a-acdb-4d24e8e5c317"
      },
      "outputs": [
        {
          "output_type": "stream",
          "name": "stdout",
          "text": [
            "The output of the comparison 3 <= 3 is  True\n",
            "The output of the comparison 3 <= 5 is  True\n",
            "The output of the comparison 3 <= 2 is  False\n"
          ]
        }
      ],
      "source": [
        "print(\"The output of the comparison 3 <= 3 is \",3 <= 3)\n",
        "print(\"The output of the comparison 3 <= 5 is \",3 <= 5 )\n",
        "print(\"The output of the comparison 3 <= 2 is \",3 <= 2)\n"
      ]
    },
    {
      "cell_type": "code",
      "execution_count": 15,
      "metadata": {
        "colab": {
          "base_uri": "https://localhost:8080/"
        },
        "id": "eN1TEBgBU4Fo",
        "outputId": "5713d117-5e5e-429e-ea43-4bc2ccc2b081"
      },
      "outputs": [
        {
          "output_type": "stream",
          "name": "stdout",
          "text": [
            "The output of the comparison 3 != 4 is  True\n",
            "The output of the comparison 3 != 3 is  False\n"
          ]
        }
      ],
      "source": [
        "print(\"The output of the comparison 3 != 4 is \",3 != 4)\n",
        "print(\"The output of the comparison 3 != 3 is \",3 != 3)\n"
      ]
    },
    {
      "cell_type": "markdown",
      "metadata": {
        "id": "2vPctTYPU4Fp"
      },
      "source": [
        "### Logical Operators"
      ]
    },
    {
      "cell_type": "code",
      "execution_count": 17,
      "metadata": {
        "colab": {
          "base_uri": "https://localhost:8080/"
        },
        "id": "UAmPRBfoU4Fp",
        "outputId": "c866fb44-baf9-4c43-90f7-007a716936df"
      },
      "outputs": [
        {
          "output_type": "stream",
          "name": "stdout",
          "text": [
            "The output of the 3>2 and 4>1 is  True\n",
            "The output of the 3<2 and 4>1 is  False\n",
            "The output of the 3>2 and 4<1 is  False\n"
          ]
        }
      ],
      "source": [
        "#both true\n",
        "print(\"The output of the 3>2 and 4>1 is \",3>2 and 4>1)\n",
        "\n",
        "#First false, Second true\n",
        "print(\"The output of the 3<2 and 4>1 is \",3<2 and 4>1)\n",
        "\n",
        "#Second false, First true\n",
        "print(\"The output of the 3>2 and 4<1 is \",3>2 and 4<1)\n"
      ]
    },
    {
      "cell_type": "code",
      "execution_count": 18,
      "metadata": {
        "colab": {
          "base_uri": "https://localhost:8080/"
        },
        "id": "-7PWGJmIU4Fp",
        "outputId": "89d0529a-2cf1-4d82-8675-80f34ae9acef"
      },
      "outputs": [
        {
          "output_type": "stream",
          "name": "stdout",
          "text": [
            "The output of the 3>2 or 4>1 is  True\n",
            "The output of the 3<2 or 4>1 is  True\n",
            "The output of the 3>2 or 4<1 is  True\n",
            "The output of the 3<2 or 4<1 is  False\n"
          ]
        }
      ],
      "source": [
        "#both true\n",
        "print(\"The output of the 3>2 or 4>1 is \",3>2 or 4>1)\n",
        "\n",
        "#First false, Second true\n",
        "print(\"The output of the 3<2 or 4>1 is \",3<2 or 4>1)\n",
        "\n",
        "#Second false, First true\n",
        "print(\"The output of the 3>2 or 4<1 is \",3>2 or 4<1)\n",
        "\n",
        "#Both false\n",
        "print(\"The output of the 3<2 or 4<1 is \",3<2 or 4<1)\n",
        "\n"
      ]
    },
    {
      "cell_type": "code",
      "execution_count": 19,
      "metadata": {
        "colab": {
          "base_uri": "https://localhost:8080/"
        },
        "id": "D4-qegikU4Fp",
        "outputId": "e4631d42-c8c8-4809-bddd-2d24c39d6656"
      },
      "outputs": [
        {
          "output_type": "stream",
          "name": "stdout",
          "text": [
            "The output of the not(True)  False\n",
            "The output of the not(False)  True\n"
          ]
        }
      ],
      "source": [
        "print(\"The output of the not(True) \",not(True))\n",
        "print(\"The output of the not(False) \",not(False))\n",
        "\n"
      ]
    },
    {
      "cell_type": "code",
      "execution_count": 20,
      "metadata": {
        "colab": {
          "base_uri": "https://localhost:8080/"
        },
        "id": "Vs4HvHuaU4Fp",
        "outputId": "b097b2df-8e23-4e63-81a9-d347d3fddae5"
      },
      "outputs": [
        {
          "output_type": "stream",
          "name": "stdout",
          "text": [
            "Input a number1\n",
            "The output of the not(userInput>5)  True\n"
          ]
        }
      ],
      "source": [
        "userInput = int(input(\"Input a number\"))\n",
        "\n",
        "print(\"The output of the not(userInput>5) \",not(userInput>5))\n"
      ]
    }
  ],
  "metadata": {
    "kernelspec": {
      "display_name": "Python 3",
      "language": "python",
      "name": "python3"
    },
    "language_info": {
      "codemirror_mode": {
        "name": "ipython",
        "version": 3
      },
      "file_extension": ".py",
      "mimetype": "text/x-python",
      "name": "python",
      "nbconvert_exporter": "python",
      "pygments_lexer": "ipython3",
      "version": "3.7.6"
    },
    "colab": {
      "provenance": [],
      "include_colab_link": true
    }
  },
  "nbformat": 4,
  "nbformat_minor": 0
}