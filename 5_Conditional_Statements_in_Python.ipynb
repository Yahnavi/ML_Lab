{
  "cells": [
    {
      "cell_type": "markdown",
      "metadata": {
        "id": "view-in-github",
        "colab_type": "text"
      },
      "source": [
        "<a href=\"https://colab.research.google.com/github/Yahnavi/ML_Lab/blob/main/5_Conditional_Statements_in_Python.ipynb\" target=\"_parent\"><img src=\"https://colab.research.google.com/assets/colab-badge.svg\" alt=\"Open In Colab\"/></a>"
      ]
    },
    {
      "cell_type": "markdown",
      "metadata": {
        "id": "xKhCKxD4WTX-"
      },
      "source": [
        "### Conditions and branching"
      ]
    },
    {
      "cell_type": "code",
      "execution_count": 1,
      "metadata": {
        "id": "Am-Xe6g7WTYB",
        "outputId": "9d66534b-fa06-4ad2-9981-95a08eb2da15",
        "colab": {
          "base_uri": "https://localhost:8080/"
        }
      },
      "outputs": [
        {
          "output_type": "stream",
          "name": "stdout",
          "text": [
            "Enter a string yahnavi\n",
            "The String is too long\n",
            "The string you input is  yahnavi\n"
          ]
        }
      ],
      "source": [
        "userInput = input(\"Enter a string \")\n",
        "\n",
        "if(len(userInput) > 5):\n",
        "    print(\"The String is too long\")\n",
        "\n",
        "print(\"The string you input is \",userInput)"
      ]
    },
    {
      "cell_type": "code",
      "execution_count": 2,
      "metadata": {
        "id": "0_sr8GCQWTYE",
        "outputId": "ed9bc29a-dad0-4b48-ad3d-5cb760a93f9c",
        "colab": {
          "base_uri": "https://localhost:8080/"
        }
      },
      "outputs": [
        {
          "output_type": "stream",
          "name": "stdout",
          "text": [
            "Enter a string yahoo\n",
            "The string is just right size\n"
          ]
        }
      ],
      "source": [
        "userInput = input(\"Enter a string \")\n",
        "\n",
        "if(len(userInput) > 5):\n",
        "    print(\"The string is too long\")\n",
        "else:\n",
        "    print(\"The string is just right size\")\n",
        "\n"
      ]
    },
    {
      "cell_type": "code",
      "execution_count": 3,
      "metadata": {
        "id": "22b22akzWTYF",
        "outputId": "d8d2bc12-2b44-49d7-a0e0-2de46223c45c",
        "colab": {
          "base_uri": "https://localhost:8080/"
        }
      },
      "outputs": [
        {
          "output_type": "stream",
          "name": "stdout",
          "text": [
            "Enter a string qwerty\n",
            "The string you input is just as expected\n"
          ]
        }
      ],
      "source": [
        "userInput = input(\"Enter a string \")\n",
        "\n",
        "if(len(userInput) > 10):\n",
        "    print(\"The string is too long\")\n",
        "elif (len(userInput) < 5):\n",
        "    print(\"The string is too short\")\n",
        "else:\n",
        "    print(\"The string you input is just as expected\")\n",
        "\n"
      ]
    },
    {
      "cell_type": "markdown",
      "metadata": {
        "id": "g_7FpfcqWTYF"
      },
      "source": [
        "Get the user to input age as a number. If the number is less than 18, print **Children not allowed**. If the number is above 30, print **This show might be too boring for you**. If the number is between 18 to 30, both inclusive, print **Welcome to the show**"
      ]
    },
    {
      "cell_type": "code",
      "execution_count": 7,
      "metadata": {
        "id": "focjdD9cWTYF",
        "outputId": "39164914-19a4-4c58-ccd0-c7b70aa36640",
        "colab": {
          "base_uri": "https://localhost:8080/"
        }
      },
      "outputs": [
        {
          "output_type": "stream",
          "name": "stdout",
          "text": [
            "enter your age23\n",
            "Welcome to the show..\n"
          ]
        }
      ],
      "source": [
        "age = int(input(\"enter your age\"))\n",
        "if age < 18:\n",
        "  print(\"Children not allowed\")\n",
        "elif age > 30:\n",
        "  print(\"This show might be too boring for you!!\")\n",
        "else:\n",
        "  print(\"Welcome to the show..\")"
      ]
    },
    {
      "cell_type": "markdown",
      "metadata": {
        "id": "5YK8pq0UWTYG"
      },
      "source": [
        "Double-click __here__ for the solution.\n",
        "\n",
        "<!-- Solution:\n",
        "\n",
        "age = int(input(\"Enter your age as a number \"))\n",
        "\n",
        "if (age < 18):\n",
        "    print(\"Children not allowed\")\n",
        "elif (age > 30):\n",
        "    print(\"This show might be too boring for you\")\n",
        "else:\n",
        "    print(\"Welcome to the show\")\n",
        "-->"
      ]
    },
    {
      "cell_type": "code",
      "source": [],
      "metadata": {
        "id": "bB3yjfH1XLJU"
      },
      "execution_count": null,
      "outputs": []
    }
  ],
  "metadata": {
    "kernelspec": {
      "display_name": "Python 3",
      "language": "python",
      "name": "python3"
    },
    "language_info": {
      "codemirror_mode": {
        "name": "ipython",
        "version": 3
      },
      "file_extension": ".py",
      "mimetype": "text/x-python",
      "name": "python",
      "nbconvert_exporter": "python",
      "pygments_lexer": "ipython3",
      "version": "3.7.6"
    },
    "colab": {
      "provenance": [],
      "include_colab_link": true
    }
  },
  "nbformat": 4,
  "nbformat_minor": 0
}