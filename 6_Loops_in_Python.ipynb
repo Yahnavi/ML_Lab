{
  "cells": [
    {
      "cell_type": "markdown",
      "metadata": {
        "id": "view-in-github",
        "colab_type": "text"
      },
      "source": [
        "<a href=\"https://colab.research.google.com/github/Yahnavi/ML_Lab/blob/main/6_Loops_in_Python.ipynb\" target=\"_parent\"><img src=\"https://colab.research.google.com/assets/colab-badge.svg\" alt=\"Open In Colab\"/></a>"
      ]
    },
    {
      "cell_type": "markdown",
      "metadata": {
        "id": "XsvYi1vGYH1x"
      },
      "source": [
        "## Loops"
      ]
    },
    {
      "cell_type": "markdown",
      "metadata": {
        "id": "1pMeFAcWYH12"
      },
      "source": [
        "#### For Loop"
      ]
    },
    {
      "cell_type": "code",
      "execution_count": 1,
      "metadata": {
        "id": "W0x8fZVwYH13"
      },
      "outputs": [],
      "source": [
        "colours = [\"Violet\",\"Indigo\",\"Blue\",\"Green\",\"Yellow\",\"Orange\",\"Red\"]"
      ]
    },
    {
      "cell_type": "code",
      "execution_count": 2,
      "metadata": {
        "id": "XOdcyi0UYH15",
        "outputId": "de91154e-d79c-43c1-aa78-eb148bfa2824",
        "colab": {
          "base_uri": "https://localhost:8080/"
        }
      },
      "outputs": [
        {
          "output_type": "stream",
          "name": "stdout",
          "text": [
            "Violet\n",
            "Indigo\n",
            "Blue\n",
            "Green\n",
            "Yellow\n",
            "Orange\n",
            "Red\n"
          ]
        }
      ],
      "source": [
        "for colour in colours:\n",
        "    print(colour)"
      ]
    },
    {
      "cell_type": "markdown",
      "metadata": {
        "id": "gcEgEQuPYH15"
      },
      "source": [
        "#### For Loop with range"
      ]
    },
    {
      "cell_type": "code",
      "execution_count": 3,
      "metadata": {
        "id": "AWS0vnrdYH16",
        "outputId": "b30d2858-2366-4d50-ecc0-1c3b904c6f40",
        "colab": {
          "base_uri": "https://localhost:8080/"
        }
      },
      "outputs": [
        {
          "output_type": "stream",
          "name": "stdout",
          "text": [
            "0\n",
            "1\n",
            "2\n",
            "3\n",
            "4\n",
            "5\n",
            "6\n",
            "7\n",
            "8\n",
            "9\n"
          ]
        }
      ],
      "source": [
        "for i in range(0,10):\n",
        "    print(i)"
      ]
    },
    {
      "cell_type": "markdown",
      "metadata": {
        "id": "FnKa-joJYH17"
      },
      "source": [
        "#### While Loop"
      ]
    },
    {
      "cell_type": "code",
      "execution_count": 4,
      "metadata": {
        "id": "RdLKdZYTYH18",
        "outputId": "2c675397-cb5c-4b71-8d28-503795bdb8c6",
        "colab": {
          "base_uri": "https://localhost:8080/"
        }
      },
      "outputs": [
        {
          "output_type": "stream",
          "name": "stdout",
          "text": [
            "10\n",
            "9\n",
            "8\n",
            "7\n",
            "6\n",
            "5\n",
            "4\n",
            "3\n",
            "2\n",
            "1\n"
          ]
        }
      ],
      "source": [
        "i = 10\n",
        "while(i>0):\n",
        "    print(i)\n",
        "    i-=1"
      ]
    },
    {
      "cell_type": "markdown",
      "metadata": {
        "id": "WyQuTPQPYH19"
      },
      "source": [
        "#### Run the loop as long as the user wants to using `break`"
      ]
    },
    {
      "cell_type": "code",
      "execution_count": 6,
      "metadata": {
        "id": "0m4Ljy3lYH1-",
        "outputId": "0793f610-d81d-44a5-f381-a09ba79e5086",
        "colab": {
          "base_uri": "https://localhost:8080/"
        }
      },
      "outputs": [
        {
          "name": "stdout",
          "output_type": "stream",
          "text": [
            "Hello\n",
            "Do you want to continue Y/N? n\n"
          ]
        }
      ],
      "source": [
        "while(True): #Infinite loop\n",
        "    print(\"Hello\")\n",
        "    shouldWeContinue = input(\"Do you want to continue Y/N? \")\n",
        "    if(shouldWeContinue == \"N\" or shouldWeContinue == 'n'):\n",
        "        break\n",
        ""
      ]
    },
    {
      "cell_type": "markdown",
      "metadata": {
        "id": "PMq9uUVVYH1-"
      },
      "source": [
        "#### Print all numbers between 1 to 100 except the ones which are divisible by 9"
      ]
    },
    {
      "cell_type": "code",
      "execution_count": 7,
      "metadata": {
        "id": "1xWcgfYhYH1-",
        "outputId": "1891cdf8-e70c-42c6-d012-1e649e544e66",
        "colab": {
          "base_uri": "https://localhost:8080/"
        }
      },
      "outputs": [
        {
          "output_type": "stream",
          "name": "stdout",
          "text": [
            "1\n",
            "2\n",
            "3\n",
            "4\n",
            "5\n",
            "6\n",
            "7\n",
            "8\n",
            "10\n",
            "11\n",
            "12\n",
            "13\n",
            "14\n",
            "15\n",
            "16\n",
            "17\n",
            "19\n",
            "20\n",
            "21\n",
            "22\n",
            "23\n",
            "24\n",
            "25\n",
            "26\n",
            "28\n",
            "29\n",
            "30\n",
            "31\n",
            "32\n",
            "33\n",
            "34\n",
            "35\n",
            "37\n",
            "38\n",
            "39\n",
            "40\n",
            "41\n",
            "42\n",
            "43\n",
            "44\n",
            "46\n",
            "47\n",
            "48\n",
            "49\n",
            "50\n",
            "51\n",
            "52\n",
            "53\n",
            "55\n",
            "56\n",
            "57\n",
            "58\n",
            "59\n",
            "60\n",
            "61\n",
            "62\n",
            "64\n",
            "65\n",
            "66\n",
            "67\n",
            "68\n",
            "69\n",
            "70\n",
            "71\n",
            "73\n",
            "74\n",
            "75\n",
            "76\n",
            "77\n",
            "78\n",
            "79\n",
            "80\n",
            "82\n",
            "83\n",
            "84\n",
            "85\n",
            "86\n",
            "87\n",
            "88\n",
            "89\n",
            "91\n",
            "92\n",
            "93\n",
            "94\n",
            "95\n",
            "96\n",
            "97\n",
            "98\n",
            "100\n"
          ]
        }
      ],
      "source": [
        "for i in range(1,101):\n",
        "    if(i%9 == 0):\n",
        "        continue\n",
        "\n",
        "    print(i)\n",
        ""
      ]
    },
    {
      "cell_type": "markdown",
      "metadata": {
        "id": "9Ghebf5dYH1_"
      },
      "source": [
        "#### Challenge\n",
        "Take two number inputs from the user and ask the user to choose the operation to perform ie., +,-,*,/,\\**. Depending on what the user input is, perform operation and print output.If the user input is not one of the operations mentioned, print appropriate message."
      ]
    },
    {
      "cell_type": "code",
      "execution_count": 8,
      "metadata": {
        "id": "4sp-i5LNYH1_",
        "outputId": "5913b410-a6cf-49bc-8214-3e1e9cb7bc17",
        "colab": {
          "base_uri": "https://localhost:8080/"
        }
      },
      "outputs": [
        {
          "output_type": "stream",
          "name": "stdout",
          "text": [
            "enter number 1 : 2\n",
            "enter number 2 : 5\n",
            "enter an operator +, -, *, / : +\n",
            "7\n"
          ]
        }
      ],
      "source": [
        "num1 = int(input('enter number 1 : '))\n",
        "num2 = int(input('enter number 2 : '))\n",
        "operator = input('enter an operator +, -, *, / : ')\n",
        "if operator == '+':\n",
        "  print(num1 + num2)\n",
        "elif operator == '-':\n",
        "  print(num1 - num2)\n",
        "elif operator == '*':\n",
        "  print(num1 * num2)\n",
        "elif operator == '/':\n",
        "  print('num1 / num2')\n",
        "else:\n",
        "  print('invalid operator.')"
      ]
    },
    {
      "cell_type": "markdown",
      "metadata": {
        "id": "KjOQcnMMYH2A"
      },
      "source": [
        "Double-click __here__ for the solution.\n",
        "\n",
        "<!--\n",
        "num1 = int(input(\"Enter the first number \"))\n",
        "num2 = int(input(\"Enter the second number\"))\n",
        "\n",
        "op = input(\"What operation do you want perform? \")\n",
        "\n",
        "if(op == \"+\"):\n",
        "    print(num1+num2)\n",
        "elif (op == \"-\"):\n",
        "    print(num1-num2)\n",
        "elif (op == \"*\"):\n",
        "    print(num1*num2)\n",
        "elif (op == \"/\"):\n",
        "    print(num1/num2)\n",
        "elif (op == \"**\"):\n",
        "    print(num1**num2)\n",
        "else:\n",
        "    print(\"Not a valid operation\")\n",
        "-->"
      ]
    }
  ],
  "metadata": {
    "kernelspec": {
      "display_name": "Python 3",
      "language": "python",
      "name": "python3"
    },
    "language_info": {
      "codemirror_mode": {
        "name": "ipython",
        "version": 3
      },
      "file_extension": ".py",
      "mimetype": "text/x-python",
      "name": "python",
      "nbconvert_exporter": "python",
      "pygments_lexer": "ipython3",
      "version": "3.7.6"
    },
    "colab": {
      "provenance": [],
      "include_colab_link": true
    }
  },
  "nbformat": 4,
  "nbformat_minor": 0
}