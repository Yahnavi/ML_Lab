{
  "nbformat": 4,
  "nbformat_minor": 0,
  "metadata": {
    "colab": {
      "provenance": [],
      "include_colab_link": true
    },
    "kernelspec": {
      "name": "python3",
      "display_name": "Python 3"
    }
  },
  "cells": [
    {
      "cell_type": "markdown",
      "metadata": {
        "id": "view-in-github",
        "colab_type": "text"
      },
      "source": [
        "<a href=\"https://colab.research.google.com/github/Yahnavi/ML_Lab/blob/main/7_Operation_in_Data_Structures_Python.ipynb\" target=\"_parent\"><img src=\"https://colab.research.google.com/assets/colab-badge.svg\" alt=\"Open In Colab\"/></a>"
      ]
    },
    {
      "cell_type": "code",
      "metadata": {
        "id": "IQV-A7l1WwwQ"
      },
      "source": [
        "mytuple = (1,2,3,4)"
      ],
      "execution_count": 1,
      "outputs": []
    },
    {
      "cell_type": "code",
      "metadata": {
        "id": "C88k9RkeW0LD",
        "colab": {
          "base_uri": "https://localhost:8080/"
        },
        "outputId": "2d7d3ffb-d704-4d10-8024-18f22122a2c8"
      },
      "source": [
        "print(mytuple.count(6))\n",
        "print(mytuple.count(2))"
      ],
      "execution_count": 2,
      "outputs": [
        {
          "output_type": "stream",
          "name": "stdout",
          "text": [
            "0\n",
            "1\n"
          ]
        }
      ]
    },
    {
      "cell_type": "code",
      "metadata": {
        "id": "P_77LxRSW8fA",
        "colab": {
          "base_uri": "https://localhost:8080/"
        },
        "outputId": "6ea384b6-e34e-4126-eafe-992a4cb67170"
      },
      "source": [
        "mytuple.index(2)"
      ],
      "execution_count": 3,
      "outputs": [
        {
          "output_type": "execute_result",
          "data": {
            "text/plain": [
              "1"
            ]
          },
          "metadata": {},
          "execution_count": 3
        }
      ]
    },
    {
      "cell_type": "code",
      "metadata": {
        "id": "8dVXl-yvXiX5",
        "colab": {
          "base_uri": "https://localhost:8080/",
          "height": 141
        },
        "outputId": "d31fb8ef-c2fa-42cc-fd18-e41555de793e"
      },
      "source": [
        "mytuple.index(7)"
      ],
      "execution_count": 4,
      "outputs": [
        {
          "output_type": "error",
          "ename": "ValueError",
          "evalue": "tuple.index(x): x not in tuple",
          "traceback": [
            "\u001b[0;31m---------------------------------------------------------------------------\u001b[0m",
            "\u001b[0;31mValueError\u001b[0m                                Traceback (most recent call last)",
            "\u001b[0;32m<ipython-input-4-78b93bfb282c>\u001b[0m in \u001b[0;36m<cell line: 1>\u001b[0;34m()\u001b[0m\n\u001b[0;32m----> 1\u001b[0;31m \u001b[0mmytuple\u001b[0m\u001b[0;34m.\u001b[0m\u001b[0mindex\u001b[0m\u001b[0;34m(\u001b[0m\u001b[0;36m7\u001b[0m\u001b[0;34m)\u001b[0m\u001b[0;34m\u001b[0m\u001b[0;34m\u001b[0m\u001b[0m\n\u001b[0m",
            "\u001b[0;31mValueError\u001b[0m: tuple.index(x): x not in tuple"
          ]
        }
      ]
    },
    {
      "cell_type": "code",
      "metadata": {
        "id": "EEhTwjr8Xl44"
      },
      "source": [
        "myset = {1,2,3,4,5}"
      ],
      "execution_count": 5,
      "outputs": []
    },
    {
      "cell_type": "markdown",
      "metadata": {
        "id": "wEJTQcJ7YFIf"
      },
      "source": [
        "#### Add an element to the cell"
      ]
    },
    {
      "cell_type": "code",
      "metadata": {
        "id": "NSf0esRfX5wy",
        "colab": {
          "base_uri": "https://localhost:8080/"
        },
        "outputId": "ca862d10-4050-49d5-cf4e-6c1b6cdb4b6c"
      },
      "source": [
        "myset.add(6)\n",
        "print(myset)"
      ],
      "execution_count": 6,
      "outputs": [
        {
          "output_type": "stream",
          "name": "stdout",
          "text": [
            "{1, 2, 3, 4, 5, 6}\n"
          ]
        }
      ]
    },
    {
      "cell_type": "markdown",
      "metadata": {
        "id": "0qfESeyAYml_"
      },
      "source": [
        "#### Update method on set is similar to the extend method in list. The difference is that if there are duplicate elements, one one occurence is added to the original set."
      ]
    },
    {
      "cell_type": "code",
      "metadata": {
        "id": "LGONIEdcYDB5",
        "colab": {
          "base_uri": "https://localhost:8080/"
        },
        "outputId": "67b8e71d-3a2f-4664-9c90-545867ee381d"
      },
      "source": [
        "myset2 = {4,5,6,7,8}\n",
        "myset.update(myset2)\n",
        "myset"
      ],
      "execution_count": 7,
      "outputs": [
        {
          "output_type": "execute_result",
          "data": {
            "text/plain": [
              "{1, 2, 3, 4, 5, 6, 7, 8}"
            ]
          },
          "metadata": {},
          "execution_count": 7
        }
      ]
    },
    {
      "cell_type": "code",
      "metadata": {
        "id": "Y8KB6cvCYjQL",
        "colab": {
          "base_uri": "https://localhost:8080/"
        },
        "outputId": "3e206df4-6fe9-4270-b868-28d397b1813d"
      },
      "source": [
        "mylist = {1,2,9,10}\n",
        "myset.update(mylist)\n",
        "myset"
      ],
      "execution_count": 8,
      "outputs": [
        {
          "output_type": "execute_result",
          "data": {
            "text/plain": [
              "{1, 2, 3, 4, 5, 6, 7, 8, 9, 10}"
            ]
          },
          "metadata": {},
          "execution_count": 8
        }
      ]
    },
    {
      "cell_type": "code",
      "metadata": {
        "id": "ZmTBrLMlG2Ig",
        "colab": {
          "base_uri": "https://localhost:8080/"
        },
        "outputId": "0abd915a-1fe6-43a6-9070-83df54d6a77b"
      },
      "source": [
        "setA = {1,2,3,4,5,6,7,8,9,10}\n",
        "setB = {2,4,6,8,10,12,14}\n",
        "\n",
        "print(\"setA union setB\",setA.union(setB))\n",
        "print(\"setA intersection setB\",setA.intersection(setB))\n",
        "print(\"setA difference setB\",setA.difference(setB))\n",
        "\n",
        "\n",
        "setC = {2,3,5,7}\n",
        "\n",
        "print(\"Is setC a subset of setA? \",setC.issubset(setA))\n"
      ],
      "execution_count": 9,
      "outputs": [
        {
          "output_type": "stream",
          "name": "stdout",
          "text": [
            "setA union setB {1, 2, 3, 4, 5, 6, 7, 8, 9, 10, 12, 14}\n",
            "setA intersection setB {2, 4, 6, 8, 10}\n",
            "setA difference setB {1, 3, 5, 7, 9}\n",
            "Is setC a subset of setA?  True\n"
          ]
        }
      ]
    },
    {
      "cell_type": "code",
      "metadata": {
        "id": "yQYjgQzqYwAk"
      },
      "source": [
        "\n",
        "mydict = {1:\"one\",2:\"two\",3:\"three\"}"
      ],
      "execution_count": 10,
      "outputs": []
    },
    {
      "cell_type": "code",
      "metadata": {
        "id": "op7xMGhK_-wu",
        "colab": {
          "base_uri": "https://localhost:8080/"
        },
        "outputId": "7f8981dc-24eb-4bf4-e6b4-d8d63c91e33d"
      },
      "source": [
        "for key in mydict.keys():\n",
        "  print(key,\" - \",mydict[key])"
      ],
      "execution_count": 11,
      "outputs": [
        {
          "output_type": "stream",
          "name": "stdout",
          "text": [
            "1  -  one\n",
            "2  -  two\n",
            "3  -  three\n"
          ]
        }
      ]
    },
    {
      "cell_type": "code",
      "metadata": {
        "id": "ZyTufx6aAKgq",
        "colab": {
          "base_uri": "https://localhost:8080/"
        },
        "outputId": "94c7b8d1-b043-4773-a83d-57550f45eb93"
      },
      "source": [
        "for item in mydict.items():\n",
        "  print(item)"
      ],
      "execution_count": 12,
      "outputs": [
        {
          "output_type": "stream",
          "name": "stdout",
          "text": [
            "(1, 'one')\n",
            "(2, 'two')\n",
            "(3, 'three')\n"
          ]
        }
      ]
    },
    {
      "cell_type": "code",
      "metadata": {
        "id": "3O8MnFoOb_Ft",
        "colab": {
          "base_uri": "https://localhost:8080/"
        },
        "outputId": "46a573f8-834d-4fda-b9d1-b485be85d203"
      },
      "source": [
        "mylist1 = [1,2,3,4,5,6]\n",
        "\n",
        "#Creates a dictionary mapping the keys in the collection onto None\n",
        "print(mydict.fromkeys(mylist1))\n",
        "\n",
        "#Creates a dictionary mapping the keys on the the value passed as second parameter\n",
        "print(mydict.fromkeys(mylist1,0))"
      ],
      "execution_count": 13,
      "outputs": [
        {
          "output_type": "stream",
          "name": "stdout",
          "text": [
            "{1: None, 2: None, 3: None, 4: None, 5: None, 6: None}\n",
            "{1: 0, 2: 0, 3: 0, 4: 0, 5: 0, 6: 0}\n"
          ]
        }
      ]
    },
    {
      "cell_type": "code",
      "metadata": {
        "id": "xlUGfeyFd0v-"
      },
      "source": [
        "mydict2 = mydict.copy()"
      ],
      "execution_count": 14,
      "outputs": []
    },
    {
      "cell_type": "code",
      "metadata": {
        "id": "0OKnb_1tDjUg"
      },
      "source": [
        "mydict2[\"newkey\"] = \"newvalue\""
      ],
      "execution_count": 15,
      "outputs": []
    },
    {
      "cell_type": "code",
      "metadata": {
        "id": "Fs4CY8LjDqAQ",
        "colab": {
          "base_uri": "https://localhost:8080/"
        },
        "outputId": "337b449f-3418-475c-a778-7556a368fd60"
      },
      "source": [
        "print(\"mydict \",mydict)\n",
        "print(\"mydict2 \",mydict2)"
      ],
      "execution_count": 16,
      "outputs": [
        {
          "output_type": "stream",
          "name": "stdout",
          "text": [
            "mydict  {1: 'one', 2: 'two', 3: 'three'}\n",
            "mydict2  {1: 'one', 2: 'two', 3: 'three', 'newkey': 'newvalue'}\n"
          ]
        }
      ]
    },
    {
      "cell_type": "code",
      "metadata": {
        "id": "xh8INV-IEDoy"
      },
      "source": [],
      "execution_count": 16,
      "outputs": []
    }
  ]
}